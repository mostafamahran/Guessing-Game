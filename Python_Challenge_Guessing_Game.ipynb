{
 "cells": [
  {
   "cell_type": "markdown",
   "metadata": {
    "id": "NQuOyznPahpH"
   },
   "source": [
    "# Guessing Game Challenge\n",
    "\n",
    "Let's use `while` loops to create a guessing game.\n",
    "\n",
    "The Challenge:\n",
    "\n",
    "Write a program that picks a random integer from 1 to 100, and has players guess the number. The rules are:\n",
    "\n",
    "1. If a player's guess is less than 1 or greater than 100, say \"OUT OF BOUNDS\"\n",
    "\n",
    "2. On all turns, if a guess is \n",
    " * closer to the number than the previous guess return \"Closer!\"\n",
    " * farther from the number than the previous guess, return \"Farther!\"\n",
    "3. When the player's guess equals the number, tell them they've guessed correctly *and* how many guesses it took!\n",
    "\n",
    "Now Lets o fro the Steps!"
   ]
  },
  {
   "cell_type": "markdown",
   "metadata": {
    "id": "6K7SSiaEahpK"
   },
   "source": [
    "#### First, Build a Line of Code that can Return a random integer from 1 to 100 and store this number in object called Actual"
   ]
  },
  {
   "cell_type": "code",
   "execution_count": 3,
   "metadata": {
    "id": "8R7ayXGwahpL"
   },
   "outputs": [],
   "source": [
    "#Type Your Code Here  - Replace None with Correct  Function \n",
    "from random import randint\n",
    "Actual = randint(1,100)"
   ]
  },
  {
   "cell_type": "code",
   "execution_count": 6,
   "metadata": {},
   "outputs": [
    {
     "data": {
      "text/plain": [
       "40"
      ]
     },
     "execution_count": 6,
     "metadata": {},
     "output_type": "execute_result"
    }
   ],
   "source": [
    "Actual"
   ]
  },
  {
   "cell_type": "markdown",
   "metadata": {
    "id": "la65uFUjahpO"
   },
   "source": [
    "#### Next, build a Code to display an introduction to the Game to tell the user the Boundaries from 1 to 100 and what is his target."
   ]
  },
  {
   "cell_type": "code",
   "execution_count": null,
   "metadata": {
    "id": "cpMGPRNT7F-J"
   },
   "outputs": [],
   "source": [
    "#Type Your Code here \n",
    "print(\"pick a random Number from 1 to 100 \")\n",
    "print(\"Try to Guess the Number the correct one \")"
   ]
  },
  {
   "cell_type": "markdown",
   "metadata": {
    "id": "GyW_z6Sf74yG"
   },
   "source": [
    "### Next, Build a Code that takes an integer input from the user "
   ]
  },
  {
   "cell_type": "code",
   "execution_count": 32,
   "metadata": {
    "id": "UZCNvK4o82k-"
   },
   "outputs": [
    {
     "name": "stdout",
     "output_type": "stream",
     "text": [
      "Enter the Number 40\n"
     ]
    }
   ],
   "source": [
    "#Type Your Code Here - Replace None With Correct Function \n",
    "Guess=int(input('Enter the Number '))"
   ]
  },
  {
   "cell_type": "code",
   "execution_count": 33,
   "metadata": {},
   "outputs": [
    {
     "data": {
      "text/plain": [
       "40"
      ]
     },
     "execution_count": 33,
     "metadata": {},
     "output_type": "execute_result"
    }
   ],
   "source": [
    "Guess"
   ]
  },
  {
   "cell_type": "markdown",
   "metadata": {
    "id": "BHsh0slo834l"
   },
   "source": [
    "### Next, Put the Upper Cell in A Loop that keeps checking if the Number is Out of Bounds or Not  "
   ]
  },
  {
   "cell_type": "code",
   "execution_count": null,
   "metadata": {
    "id": "Xx00D-J89xsk"
   },
   "outputs": [],
   "source": [
    "#Replace None Values with correct conditions or Booleans\n",
    "\n",
    "while(Actual != Guess ): \n",
    "  # Take input from user \n",
    "    Guess=int(input('Enter the Number '))\n",
    "    if Guess > 0 and Guess < 100:\n",
    "        print(\"In Bounds\")\n",
    "   # if right then print something\n",
    "    else:\n",
    "        print(\"Out of Bounds\")\n",
    "        \n",
    "  #and if not print another thing \n"
   ]
  },
  {
   "cell_type": "code",
   "execution_count": 34,
   "metadata": {},
   "outputs": [
    {
     "data": {
      "text/plain": [
       "40"
      ]
     },
     "execution_count": 34,
     "metadata": {},
     "output_type": "execute_result"
    }
   ],
   "source": [
    "Guess"
   ]
  },
  {
   "cell_type": "markdown",
   "metadata": {
    "id": "d-USlvx8dNak"
   },
   "source": [
    "### Next, Build a Code that Check if the Guess is equal to the Actual Random Number"
   ]
  },
  {
   "cell_type": "code",
   "execution_count": 36,
   "metadata": {
    "id": "E95mJnFNdfiW"
   },
   "outputs": [
    {
     "name": "stdout",
     "output_type": "stream",
     "text": [
      "Wow, you've guessed Correctly this time\n",
      "You have guessed it in 1 time(s)\n"
     ]
    }
   ],
   "source": [
    "guesses= [] #Make it an Empty List \n",
    "#Change None to Correct Boolean between\n",
    "count = 0\n",
    "if Guess == Actual:\n",
    "    count +=1\n",
    "    guesses.append(Guess)\n",
    "    print(\"Wow, you've guessed Correctly this time\") #Fix \n",
    "    print('You have guessed it in {} time(s)'.format(count)) # Put function that calculate the Real Number of Guesses "
   ]
  },
  {
   "cell_type": "markdown",
   "metadata": {
    "id": "VWNf49z6WVek"
   },
   "source": [
    "### Next, Build a Code that Check on Each Guess whether its closer than the Previous Guess or not."
   ]
  },
  {
   "cell_type": "code",
   "execution_count": 38,
   "metadata": {
    "id": "O7McDw6pbVfX"
   },
   "outputs": [],
   "source": [
    "\n",
    "while(Actual != Guess):\n",
    "    Diff=abs(Actual - Guess) \n",
    "    if Diff >0 and Diff<=10:\n",
    "        print(' you are closer to target ')\n",
    "    else:\n",
    "        print(' you are far from the target ')"
   ]
  },
  {
   "cell_type": "markdown",
   "metadata": {
    "id": "v-wMuTZLahpY"
   },
   "source": [
    "#### Write a `while` loop that compares the player's guess to our number. If the player guesses correctly, break from the loop. Otherwise, tell the player if they're Closer or Farer , and continue asking for guesses.\n",
    "\n",
    "**Try to Collect All the cells you 've made above and use it here**\n",
    "\n",
    "Hint:\n",
    "\n",
    "\n",
    "* you can use the `abs()` function to find the positive difference between two numbers\n",
    "\n",
    "\n",
    "# Decomposition \n",
    "\n",
    "*   Choosing Random Number\n",
    "*   Game Intro for the User\n",
    "*   Checking on the Inserted Guess if its in boundary or not\n",
    "*   Checking on the Inserted Guess if its equal to the Random Number or Not\n",
    "*   Checking on the Inserted Guess if its Far or Close from the Previous Guess.\n",
    "\n",
    "\n",
    "\n"
   ]
  },
  {
   "cell_type": "code",
   "execution_count": null,
   "metadata": {
    "id": "FaifUKKUahpZ"
   },
   "outputs": [],
   "source": [
    "# Type your Final Code here\n",
    "Actual = randint(1,100)\n",
    "print(\"\")\n",
    "print(\"\")"
   ]
  },
  {
   "cell_type": "code",
   "execution_count": 42,
   "metadata": {
    "id": "3WmFudWAl7gi"
   },
   "outputs": [
    {
     "name": "stdout",
     "output_type": "stream",
     "text": [
      "Enter the Number 7\n",
      "-----------------------------------\n",
      "In Bounds\n",
      "-----------------------------------\n",
      " you are far from the target \n",
      "Enter the Number 9\n",
      "-----------------------------------\n",
      "In Bounds\n",
      "-----------------------------------\n",
      " you are far from the target \n",
      "Enter the Number 3\n",
      "-----------------------------------\n",
      "In Bounds\n",
      "-----------------------------------\n",
      " you are far from the target \n",
      "Enter the Number 5\n",
      "-----------------------------------\n",
      "In Bounds\n",
      "-----------------------------------\n",
      " you are far from the target \n",
      "Enter the Number 4\n",
      "-----------------------------------\n",
      "In Bounds\n",
      "-----------------------------------\n",
      " you are far from the target \n",
      "Enter the Number 6\n",
      "-----------------------------------\n",
      "In Bounds\n",
      "-----------------------------------\n",
      " you are far from the target \n",
      "Enter the Number 20\n",
      "-----------------------------------\n",
      "In Bounds\n",
      "-----------------------------------\n",
      " you are far from the target \n",
      "Enter the Number 40\n",
      "-----------------------------------\n",
      "In Bounds\n",
      "-----------------------------------\n",
      "Wow, you've guessed Correctly this time\n",
      "You have guessed it in 8 time(s)\n",
      "-----------------------------------\n",
      "Guesses [7, 9, 3, 5, 4, 6, 20, 40]\n",
      "8\n"
     ]
    }
   ],
   "source": [
    "# Type here the Big Loop\n",
    "Guess = 0\n",
    "guesses= [] \n",
    "count = 0\n",
    "while (Actual !=Guess):\n",
    "    Guess = int(input('Enter the Number '))\n",
    "    print(\"-----------------------------------\")\n",
    "    count =count+1\n",
    "    guesses.append(Guess)\n",
    "    if Guess >0 and Guess <=100 :\n",
    "        print('In Bounds')\n",
    "        print(\"-----------------------------------\")\n",
    "        Diff=abs(Actual - Guess)\n",
    "        if Guess == Actual:\n",
    "            print(\"Wow, you've guessed Correctly this time\") \n",
    "            print('You have guessed it in {} time(s)'.format(count))\n",
    "            break\n",
    "            \n",
    "        if Diff >0 and Diff<=10:\n",
    "            print(' you are closer to target ')\n",
    "        else:\n",
    "            print(' you are far from the target ')    \n",
    "    else:\n",
    "        print('Out of Bounds')\n",
    "print(\"-----------------------------------\")\n",
    "print(\"Guesses {}\".format(guesses))"
   ]
  },
  {
   "cell_type": "markdown",
   "metadata": {
    "id": "5UZ7l5wEahpb"
   },
   "source": [
    "That's it! You've just programmed your first game!\n",
    "\n",
    "In the next section we'll learn how to turn some of these repetitive actions into *functions* that can be called whenever we need them."
   ]
  },
  {
   "cell_type": "markdown",
   "metadata": {
    "id": "HlHfgyZ9ahpc"
   },
   "source": [
    "### Good Job!"
   ]
  },
  {
   "cell_type": "code",
   "execution_count": null,
   "metadata": {},
   "outputs": [],
   "source": []
  }
 ],
 "metadata": {
  "colab": {
   "name": "Python Challenge Guessing Game.ipynb",
   "provenance": []
  },
  "kernelspec": {
   "display_name": "Python 3",
   "language": "python",
   "name": "python3"
  },
  "language_info": {
   "codemirror_mode": {
    "name": "ipython",
    "version": 3
   },
   "file_extension": ".py",
   "mimetype": "text/x-python",
   "name": "python",
   "nbconvert_exporter": "python",
   "pygments_lexer": "ipython3",
   "version": "3.8.3"
  }
 },
 "nbformat": 4,
 "nbformat_minor": 1
}
